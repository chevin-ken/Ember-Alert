{
 "cells": [
  {
   "cell_type": "code",
   "execution_count": 1,
   "metadata": {},
   "outputs": [],
   "source": [
    "#TREEHACKS 2019!!\n",
    "#Project by: Kevin Chen, Michelle Xu, Hannah Zhang, and Jason Zhu\n",
    "\n",
    "import numpy as np\n",
    "import pandas as pd\n",
    "import seaborn as sb\n",
    "import matplotlib.pyplot as plt\n",
    "import sklearn\n",
    "\n",
    "\n",
    "from pandas import Series, DataFrame\n",
    "from pylab import rcParams\n",
    "from sklearn import preprocessing\n",
    "from sklearn.linear_model import LogisticRegression\n",
    "from sklearn.model_selection import train_test_split\n",
    "from sklearn import metrics \n",
    "from sklearn.metrics import classification_report\n",
    "\n",
    "# All \"low risk\" data in this model is entirely fictitious and purely approximated. This is a naive \n",
    "# classifier and should be treated as such. This program is meant to be a demo of the potential\n",
    "# of using logistic regression algorithms to classify whether one location is at risk of \n",
    "# wildfire or not"
   ]
  },
  {
   "cell_type": "code",
   "execution_count": null,
   "metadata": {},
   "outputs": [],
   "source": []
  },
  {
   "cell_type": "code",
   "execution_count": 2,
   "metadata": {},
   "outputs": [
    {
     "name": "stdout",
     "output_type": "stream",
     "text": [
      "(80, 4)\n"
     ]
    },
    {
     "data": {
      "text/html": [
       "<div>\n",
       "<style scoped>\n",
       "    .dataframe tbody tr th:only-of-type {\n",
       "        vertical-align: middle;\n",
       "    }\n",
       "\n",
       "    .dataframe tbody tr th {\n",
       "        vertical-align: top;\n",
       "    }\n",
       "\n",
       "    .dataframe thead th {\n",
       "        text-align: right;\n",
       "    }\n",
       "</style>\n",
       "<table border=\"1\" class=\"dataframe\">\n",
       "  <thead>\n",
       "    <tr style=\"text-align: right;\">\n",
       "      <th></th>\n",
       "      <th>temperature</th>\n",
       "      <th>wind_speed</th>\n",
       "      <th>humidity</th>\n",
       "      <th>risk</th>\n",
       "    </tr>\n",
       "  </thead>\n",
       "  <tbody>\n",
       "    <tr>\n",
       "      <th>0</th>\n",
       "      <td>59</td>\n",
       "      <td>2.378938</td>\n",
       "      <td>73</td>\n",
       "      <td>0</td>\n",
       "    </tr>\n",
       "    <tr>\n",
       "      <th>1</th>\n",
       "      <td>54</td>\n",
       "      <td>3.956556</td>\n",
       "      <td>71</td>\n",
       "      <td>0</td>\n",
       "    </tr>\n",
       "    <tr>\n",
       "      <th>2</th>\n",
       "      <td>52</td>\n",
       "      <td>2.283575</td>\n",
       "      <td>62</td>\n",
       "      <td>0</td>\n",
       "    </tr>\n",
       "    <tr>\n",
       "      <th>3</th>\n",
       "      <td>68</td>\n",
       "      <td>3.094654</td>\n",
       "      <td>67</td>\n",
       "      <td>0</td>\n",
       "    </tr>\n",
       "    <tr>\n",
       "      <th>4</th>\n",
       "      <td>51</td>\n",
       "      <td>3.273946</td>\n",
       "      <td>71</td>\n",
       "      <td>0</td>\n",
       "    </tr>\n",
       "  </tbody>\n",
       "</table>\n",
       "</div>"
      ],
      "text/plain": [
       "   temperature  wind_speed  humidity  risk\n",
       "0           59    2.378938        73     0\n",
       "1           54    3.956556        71     0\n",
       "2           52    2.283575        62     0\n",
       "3           68    3.094654        67     0\n",
       "4           51    3.273946        71     0"
      ]
     },
     "execution_count": 2,
     "metadata": {},
     "output_type": "execute_result"
    }
   ],
   "source": [
    "data = pd.read_csv(\"EnvironmentalData.csv\")\n",
    "print(data.shape)\n",
    "data.head()"
   ]
  },
  {
   "cell_type": "code",
   "execution_count": 3,
   "metadata": {},
   "outputs": [
    {
     "data": {
      "text/plain": [
       "<matplotlib.collections.PathCollection at 0x1a14728208>"
      ]
     },
     "execution_count": 3,
     "metadata": {},
     "output_type": "execute_result"
    },
    {
     "data": {
      "image/png": "[encoded data removed]",
      "text/plain": [
       "<Figure size 432x288 with 1 Axes>"
      ]
     },
     "metadata": {},
     "output_type": "display_data"
    }
   ],
   "source": [
    "plt.scatter(data.temperature, data.risk,marker='o',color='red')"
   ]
  },
  {
   "cell_type": "code",
   "execution_count": 4,
   "metadata": {},
   "outputs": [
    {
     "data": {
      "text/plain": [
       "<matplotlib.collections.PathCollection at 0x1a14810f28>"
      ]
     },
     "execution_count": 4,
     "metadata": {},
     "output_type": "execute_result"
    },
    {
     "data": {
      "image/png": "[encoded data removed]",
      "text/plain": [
       "<Figure size 432x288 with 1 Axes>"
      ]
     },
     "metadata": {},
     "output_type": "display_data"
    }
   ],
   "source": [
    "plt.scatter(data.wind_speed, data.risk,marker='o',color='red')"
   ]
  },
  {
   "cell_type": "code",
   "execution_count": 5,
   "metadata": {},
   "outputs": [
    {
     "data": {
      "text/plain": [
       "<matplotlib.axes._subplots.AxesSubplot at 0x1a14849ba8>"
      ]
     },
     "execution_count": 5,
     "metadata": {},
     "output_type": "execute_result"
    },
    {
     "data": {
      "image/png": "[encoded data removed]",
      "text/plain": [
       "<Figure size 432x288 with 1 Axes>"
      ]
     },
     "metadata": {},
     "output_type": "display_data"
    }
   ],
   "source": [
    "sb.countplot(x='risk',data = data, palette='hls')"
   ]
  },
  {
   "cell_type": "code",
   "execution_count": 6,
   "metadata": {},
   "outputs": [
    {
     "data": {
      "text/plain": [
       "<matplotlib.axes._subplots.AxesSubplot at 0x1a149f5978>"
      ]
     },
     "execution_count": 6,
     "metadata": {},
     "output_type": "execute_result"
    },
    {
     "data": {
      "image/png": "[encoded data removed]",
      "text/plain": [
       "<Figure size 432x288 with 2 Axes>"
      ]
     },
     "metadata": {},
     "output_type": "display_data"
    }
   ],
   "source": [
    "sb.heatmap(data.corr())"
   ]
  },
  {
   "cell_type": "code",
   "execution_count": 7,
   "metadata": {},
   "outputs": [
    {
     "name": "stdout",
     "output_type": "stream",
     "text": [
      "<class 'pandas.core.frame.DataFrame'>\n",
      "RangeIndex: 80 entries, 0 to 79\n",
      "Data columns (total 4 columns):\n",
      "temperature    80 non-null int64\n",
      "wind_speed     80 non-null float64\n",
      "humidity       80 non-null int64\n",
      "risk           80 non-null int64\n",
      "dtypes: float64(1), int64(3)\n",
      "memory usage: 2.6 KB\n"
     ]
    }
   ],
   "source": [
    "data.info()"
   ]
  },
  {
   "cell_type": "code",
   "execution_count": 8,
   "metadata": {},
   "outputs": [
    {
     "name": "stderr",
     "output_type": "stream",
     "text": [
      "/Users/chevin/anaconda3/lib/python3.6/site-packages/ipykernel_launcher.py:1: DeprecationWarning: \n",
      ".ix is deprecated. Please use\n",
      ".loc for label based indexing or\n",
      ".iloc for positional indexing\n",
      "\n",
      "See the documentation here:\n",
      "http://pandas.pydata.org/pandas-docs/stable/indexing.html#ix-indexer-is-deprecated\n",
      "  \"\"\"Entry point for launching an IPython kernel.\n",
      "/Users/chevin/anaconda3/lib/python3.6/site-packages/ipykernel_launcher.py:2: DeprecationWarning: \n",
      ".ix is deprecated. Please use\n",
      ".loc for label based indexing or\n",
      ".iloc for positional indexing\n",
      "\n",
      "See the documentation here:\n",
      "http://pandas.pydata.org/pandas-docs/stable/indexing.html#ix-indexer-is-deprecated\n",
      "  \n"
     ]
    }
   ],
   "source": [
    "X = data.ix[:,(0,1,2)].values\n",
    "y = data.ix[:,3].values"
   ]
  },
  {
   "cell_type": "code",
   "execution_count": 9,
   "metadata": {},
   "outputs": [
    {
     "name": "stdout",
     "output_type": "stream",
     "text": [
      "[[60.          3.54699666 62.        ]\n",
      " [64.          3.72321496 55.        ]\n",
      " [68.          4.97351321 71.        ]\n",
      " [55.          2.59373251 54.        ]\n",
      " [92.          7.7         0.        ]\n",
      " [69.          4.07083302 69.        ]\n",
      " [58.          3.59239699 66.        ]\n",
      " [95.          6.7         0.        ]\n",
      " [65.          2.85748327 63.        ]\n",
      " [64.          3.9241503  73.        ]\n",
      " [67.          4.52083558 52.        ]\n",
      " [64.          3.56042533 71.        ]\n",
      " [52.          2.28357549 62.        ]\n",
      " [67.          4.37778545 52.        ]\n",
      " [61.          3.33690402 76.        ]\n",
      " [55.          3.36703857 79.        ]\n",
      " [93.          5.4         4.        ]\n",
      " [61.          4.6028534  53.        ]\n",
      " [61.          2.85145625 65.        ]\n",
      " [57.          3.40384784 51.        ]\n",
      " [91.          8.3        50.        ]\n",
      " [68.          2.78519999 75.        ]\n",
      " [54.          2.38200083 52.        ]\n",
      " [61.          4.0558522  63.        ]\n",
      " [87.          4.4         0.        ]\n",
      " [67.          3.76785102 67.        ]\n",
      " [70.          2.23456236 68.        ]\n",
      " [86.          5.6         0.        ]\n",
      " [71.          4.1         0.        ]\n",
      " [87.          5.1         0.        ]\n",
      " [63.          4.73977763 79.        ]\n",
      " [52.          2.33217273 78.        ]\n",
      " [65.          4.6066692  54.        ]\n",
      " [69.          2.2925416  63.        ]\n",
      " [89.          4.1         0.        ]\n",
      " [62.          4.04039022 67.        ]\n",
      " [85.          5.8         0.        ]\n",
      " [82.          7.8         0.        ]\n",
      " [52.          2.91940128 54.        ]\n",
      " [52.          4.22483713 54.        ]\n",
      " [93.          6.2         2.        ]\n",
      " [53.          2.5981701  78.        ]\n",
      " [68.          3.09465379 67.        ]\n",
      " [62.          2.64547318 80.        ]\n",
      " [54.          3.95655559 71.        ]\n",
      " [54.          3.25439324 57.        ]\n",
      " [81.          7.2         0.        ]\n",
      " [55.          4.52276958 60.        ]\n",
      " [52.          3.93188109 59.        ]\n",
      " [56.          3.85380108 60.        ]\n",
      " [63.          3.91211707 71.        ]\n",
      " [60.          3.6673438  72.        ]\n",
      " [93.          6.5        16.        ]\n",
      " [59.          3.7952866  71.        ]\n",
      " [77.          6.8        77.        ]\n",
      " [51.          3.27394643 71.        ]]\n",
      "[0 0 0 0 1 0 0 1 0 0 0 0 0 0 0 0 1 0 0 0 1 0 0 0 1 0 0 1 1 1 0 0 0 0 1 0 1\n",
      " 1 0 0 1 0 0 0 0 0 1 0 0 0 0 0 1 0 1 0]\n"
     ]
    }
   ],
   "source": [
    "X_train, X_test, y_train, y_test = train_test_split(X, y, test_size = .3, random_state=25)\n",
    "print(X_train)\n",
    "print(y_train)"
   ]
  },
  {
   "cell_type": "code",
   "execution_count": 10,
   "metadata": {},
   "outputs": [
    {
     "data": {
      "text/plain": [
       "LogisticRegression(C=1.0, class_weight=None, dual=False, fit_intercept=True,\n",
       "          intercept_scaling=1, max_iter=100, multi_class='ovr', n_jobs=1,\n",
       "          penalty='l2', random_state=None, solver='liblinear', tol=0.0001,\n",
       "          verbose=0, warm_start=False)"
      ]
     },
     "execution_count": 10,
     "metadata": {},
     "output_type": "execute_result"
    }
   ],
   "source": [
    "LogReg = LogisticRegression()\n",
    "LogReg.fit(X_train, y_train)"
   ]
  },
  {
   "cell_type": "code",
   "execution_count": 11,
   "metadata": {},
   "outputs": [
    {
     "name": "stdout",
     "output_type": "stream",
     "text": [
      "[[52.          2.10553913 77.        ]\n",
      " [60.          4.96610128 77.        ]\n",
      " [54.          3.4548163  52.        ]\n",
      " [59.          2.3789379  73.        ]\n",
      " [97.          4.2         0.        ]\n",
      " [63.          2.46984611 69.        ]\n",
      " [60.          4.46373285 62.        ]\n",
      " [70.          2.73250264 74.        ]\n",
      " [50.          4.33338555 63.        ]\n",
      " [67.          2.98565282 65.        ]\n",
      " [63.          3.96546802 72.        ]\n",
      " [97.          4.1         0.        ]\n",
      " [98.          5.6         0.        ]\n",
      " [54.          2.20125683 53.        ]\n",
      " [54.          2.25978357 71.        ]\n",
      " [52.          4.49560295 60.        ]\n",
      " [93.          4.1         0.        ]\n",
      " [65.          2.90213612 76.        ]\n",
      " [69.          3.38087837 51.        ]\n",
      " [93.          5.4         5.        ]\n",
      " [56.          3.6468396  63.        ]\n",
      " [65.          4.50318676 70.        ]\n",
      " [56.          2.08697057 61.        ]\n",
      " [52.          4.93370322 75.        ]]\n",
      "[0 0 0 0 1 0 0 0 0 0 0 1 1 0 0 0 1 0 0 1 0 0 0 0]\n"
     ]
    }
   ],
   "source": [
    "y_pred = LogReg.predict(X_test)\n",
    "print(X_test)\n",
    "print(y_pred)"
   ]
  },
  {
   "cell_type": "code",
   "execution_count": null,
   "metadata": {},
   "outputs": [],
   "source": [
    "import pickle\n",
    "with open('model', 'wb') as f:\n",
    "    pickle.dump(LogReg, f)"
   ]
  },
  {
   "cell_type": "code",
   "execution_count": 12,
   "metadata": {},
   "outputs": [
    {
     "data": {
      "text/plain": [
       "array([[19,  0],\n",
       "       [ 0,  5]])"
      ]
     },
     "execution_count": 12,
     "metadata": {},
     "output_type": "execute_result"
    }
   ],
   "source": [
    "from sklearn.metrics import confusion_matrix\n",
    "confusion_matrix = confusion_matrix(y_test, y_pred)\n",
    "confusion_matrix"
   ]
  },
  {
   "cell_type": "code",
   "execution_count": 13,
   "metadata": {},
   "outputs": [
    {
     "name": "stdout",
     "output_type": "stream",
     "text": [
      "             precision    recall  f1-score   support\n",
      "\n",
      "          0       1.00      1.00      1.00        19\n",
      "          1       1.00      1.00      1.00         5\n",
      "\n",
      "avg / total       1.00      1.00      1.00        24\n",
      "\n"
     ]
    }
   ],
   "source": [
    "print(classification_report(y_test, y_pred))"
   ]
  },
  {
   "cell_type": "code",
   "execution_count": 14,
   "metadata": {},
   "outputs": [
    {
     "name": "stdout",
     "output_type": "stream",
     "text": [
      "What is the temperature? 50\n",
      "What is the windSpeed? 20\n",
      "What is the humidity? 1\n",
      "[1]\n"
     ]
    }
   ],
   "source": [
    "temp = float(input(\"What is the temperature? \"))\n",
    "windSpeed = float(input(\"What is the windSpeed? \"))\n",
    "humidity = float(input(\"What is the humidity? \"))\n",
    "\n",
    "arr = [temp, windSpeed, humidity]\n",
    "\n",
    "print(LogReg.predict([arr])) #enter in temperature, wind speed, humidity"
   ]
  },
  {
   "cell_type": "code",
   "execution_count": null,
   "metadata": {},
   "outputs": [],
   "source": []
  },
  {
   "cell_type": "code",
   "execution_count": null,
   "metadata": {},
   "outputs": [],
   "source": []
  }
 ],
 "metadata": {
  "kernelspec": {
   "display_name": "Python 3",
   "language": "python",
   "name": "python3"
  },
  "language_info": {
   "codemirror_mode": {
    "name": "ipython",
    "version": 3
   },
   "file_extension": ".py",
   "mimetype": "text/x-python",
   "name": "python",
   "nbconvert_exporter": "python",
   "pygments_lexer": "ipython3",
   "version": "3.6.5"
  }
 },
 "nbformat": 4,
 "nbformat_minor": 2
}
